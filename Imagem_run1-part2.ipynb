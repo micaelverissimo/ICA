{
 "cells": [
  {
   "cell_type": "code",
   "execution_count": 1,
   "metadata": {},
   "outputs": [],
   "source": [
    "import time\n",
    "import numpy as np\n",
    "import matplotlib.pyplot as plt\n",
    "from Functions import StatisticalAnalysis, amari\n",
    "\n",
    "from skimage.measure import compare_ssim as ssim\n",
    "from skimage.measure import compare_psnr,compare_nrmse\n",
    "from skimage import data, img_as_float\n",
    "from skimage.color import rgb2gray\n",
    "\n",
    "from scipy import stats\n",
    "from sklearn.decomposition import PCA, FastICA\n",
    "\n",
    "audio = '/home/micael/Documents/Mestrado/base_audio_ica'\n",
    "imagem = '/home/micael/Documents/Mestrado/base_imagens_ica'\n",
    "save_imagem = '/home/micael/Documents/Mestrado/ICA/trabalho_parte2'\n"
   ]
  },
  {
   "cell_type": "code",
   "execution_count": 2,
   "metadata": {},
   "outputs": [],
   "source": [
    "import scipy.misc as sm\n"
   ]
  },
  {
   "cell_type": "code",
   "execution_count": 3,
   "metadata": {},
   "outputs": [
    {
     "name": "stdout",
     "output_type": "stream",
     "text": [
      "(400, 500, 3) (400, 500, 3) (400, 500, 3) (400, 500, 3) [[ 0.3  0.7]\n",
      " [ 0.4  0.6]]\n"
     ]
    }
   ],
   "source": [
    "x1 = sm.imread(imagem+'/'+'1_run'+'/'+'1_saida.jpg',mode='RGB')\n",
    "x2 = sm.imread(imagem+'/'+'1_run'+'/'+'2_saida.jpg',mode='RGB')\n",
    "\n",
    "s1 = sm.imread(imagem+'/'+'1_run_key'+'/'+'Dog.jpg',mode='RGB')\n",
    "s2 = sm.imread(imagem+'/'+'1_run_key'+'/'+'Horse.jpg',mode='RGB')\n",
    "\n",
    "mixMatrix = np.loadtxt(imagem+'/'+'1_run_key'+'/'+'weights.txt',delimiter=',')\n",
    "\n",
    "print x1.shape,x2.shape,s1.shape,s2.shape,mixMatrix\n",
    "\n",
    "red_sources = [s1[:,:,0].flatten(),s2[:,:,0].flatten()]\n",
    "green_sources = [s1[:,:,1].flatten(),s2[:,:,1].flatten()]\n",
    "blue_sources = [s1[:,:,2].flatten(),s2[:,:,2].flatten()]"
   ]
  },
  {
   "cell_type": "code",
   "execution_count": 4,
   "metadata": {},
   "outputs": [
    {
     "name": "stdout",
     "output_type": "stream",
     "text": [
      "============ 0 ====================\n",
      "number of interations: 2\n",
      "Time to converges the FastICA: 0.101 seconds\n",
      "============ 1 ====================\n",
      "number of interations: 2\n",
      "Time to converges the FastICA: 0.085 seconds\n",
      "============ 2 ====================\n",
      "number of interations: 2\n",
      "Time to converges the FastICA: 0.105 seconds\n"
     ]
    }
   ],
   "source": [
    "red_recovered_sources = []\n",
    "green_recovered_sources = []\n",
    "blue_recovered_sources = []\n",
    "\n",
    "numero_interacao = []\n",
    "convergence_time = []\n",
    "\n",
    "channels = ['red','green','blue']\n",
    "\n",
    "for i in range(x1.shape[2]):\n",
    "    x1_flatten = x1[:,:,i].flatten()\n",
    "    x2_flatten = x2[:,:,i].flatten()\n",
    "    X = np.vstack([x1_flatten,x2_flatten])\n",
    "    print '============',i,'===================='\n",
    "    init_time = time.time()\n",
    "    ica = FastICA(n_components=2,algorithm='parallel',whiten=True,fun='logcosh')\n",
    "    fit = ica.fit(X.T)\n",
    "    print 'number of interations:', fit.n_iter_ \n",
    "    y = ica.transform(X.T)\n",
    "\n",
    "    current_time = time.time()\n",
    "    print 'Time to converges the FastICA: %1.3f seconds'%(current_time-init_time)\n",
    "    numero_interacao.append(fit.n_iter_)\n",
    "    convergence_time.append(current_time-init_time)\n",
    "    #print y.shape\n",
    "    for j in range(y.shape[1]):\n",
    "    #    y_source = np.reshape(y[:,j],(400,500))\n",
    "        \n",
    "        if i==0:\n",
    "            xR = y[:,j].T\n",
    "            red_recovered_sources.append((((xR-np.min(xR))/np.max(xR-np.min(xR)))* 255))\n",
    "        elif i==1:\n",
    "            xG = y[:,j].T\n",
    "            green_recovered_sources.append((((xG-np.min(xG))/np.max(xG-np.min(xG)))* 255))\n",
    "        else:\n",
    "            xB = y[:,j].T\n",
    "            blue_recovered_sources.append(((xB-np.min(xB))/np.max(xB-np.min(xB))*255))\n",
    "    #   sm.imsave('recovered_source_channel_'+channels[i]+'_' + str(j) + '.png', y_source)"
   ]
  },
  {
   "cell_type": "code",
   "execution_count": 28,
   "metadata": {},
   "outputs": [
    {
     "data": {
      "text/plain": [
       "(array([2, 2, 2]),\n",
       " array([ 0.10064411,  0.08541918,  0.1050601 ]),\n",
       " array([[ 2.        ,  2.        ,  2.        ,  6.        ],\n",
       "        [ 0.10064411,  0.08541918,  0.1050601 ,  0.29112339]]),\n",
       " array([[ 6.        ],\n",
       "        [ 0.29112339]]))"
      ]
     },
     "execution_count": 28,
     "metadata": {},
     "output_type": "execute_result"
    }
   ],
   "source": [
    "numero_interacao = np.asarray(numero_interacao)\n",
    "convergence_time = np.asarray(convergence_time)\n",
    "means = np.reshape(np.array([np.sum(numero_interacao),np.sum(convergence_time)]),(1,2))\n",
    "run1_info = np.vstack([numero_interacao,convergence_time])\n",
    "run1_info = np.hstack([run1_info,means.T])\n",
    "numero_interacao,convergence_time, run1_info, means.T"
   ]
  },
  {
   "cell_type": "code",
   "execution_count": 27,
   "metadata": {},
   "outputs": [
    {
     "name": "stdout",
     "output_type": "stream",
     "text": [
      "\\begin{tabular}{lrrrr}\n",
      "\\toprule\n",
      "{} &         0 &         1 &        2 &         3 \\\\\n",
      "\\midrule\n",
      "0 &  2.000000 &  2.000000 &  2.00000 &  2.000000 \\\\\n",
      "1 &  0.100644 &  0.085419 &  0.10506 &  0.097041 \\\\\n",
      "\\bottomrule\n",
      "\\end{tabular}\n",
      "\n"
     ]
    }
   ],
   "source": [
    "import pandas as pd\n",
    "\n",
    "information_run1 = pd.DataFrame(run1_info)\n",
    "\n",
    "print information_run1.to_latex()"
   ]
  },
  {
   "cell_type": "code",
   "execution_count": null,
   "metadata": {},
   "outputs": [],
   "source": []
  },
  {
   "cell_type": "code",
   "execution_count": 7,
   "metadata": {},
   "outputs": [
    {
     "data": {
      "text/plain": [
       "array([[ 0.61823887,  0.15810038],\n",
       "       [ 0.06752682,  0.40236837]])"
      ]
     },
     "execution_count": 7,
     "metadata": {},
     "output_type": "execute_result"
    }
   ],
   "source": [
    "names = ['imagem1','imagem2']\n",
    "sources = [s1,s2]\n",
    "image_similarity = np.zeros([len(sources),len(sources)])\n",
    "for i in range(len(red_recovered_sources)):\n",
    "    MI_g = [StatisticalAnalysis.calc_MI(red_recovered_sources[i],green_recovered_sources[j]) for j in range(len(green_recovered_sources))]\n",
    "    MI_b = [StatisticalAnalysis.calc_MI(red_recovered_sources[i],blue_recovered_sources[j]) for j in range(len(blue_recovered_sources))]\n",
    "\n",
    "    g_index = MI_g.index(max(MI_g))\n",
    "    b_index = MI_b.index(max(MI_b))\n",
    "    y = np.zeros(x1.shape)\n",
    "    y[:,:,0] =  np.reshape(red_recovered_sources[i].T,(400,500))\n",
    "    y[:,:,1] =  np.reshape(green_recovered_sources[g_index].T,(400,500))\n",
    "    y[:,:,2] =  np.reshape(blue_recovered_sources[b_index].T,(400,500))\n",
    "    \n",
    "    y = y.astype('uint8')\n",
    "    for j in range(len(sources)):\n",
    "        image_similarity[j][i] = ssim(sources[j].astype('uint8'),y,multichannel=True)\n",
    "    \n",
    "    sm.imsave(save_imagem+'/'+'run1_extracted_'+names[i]+'.png',y)\n",
    "image_similarity"
   ]
  },
  {
   "cell_type": "code",
   "execution_count": 8,
   "metadata": {},
   "outputs": [
    {
     "data": {
      "image/png": "[encoded data removed]",
      "text/plain": [
       "<matplotlib.figure.Figure at 0x7f1e850b33d0>"
      ]
     },
     "metadata": {},
     "output_type": "display_data"
    }
   ],
   "source": [
    "StatisticalAnalysis.plot_in_matrix(image_similarity,title='Structural Similarity',\n",
    "                                   output=save_imagem,name='structural_similarity_run1',save=True)"
   ]
  },
  {
   "cell_type": "code",
   "execution_count": 7,
   "metadata": {},
   "outputs": [
    {
     "name": "stdout",
     "output_type": "stream",
     "text": [
      "0.0203705342929\n",
      "0.222514932041\n",
      "0.173439081313\n",
      "0.0072019635816\n"
     ]
    }
   ],
   "source": [
    "for i in range(len(red_recovered_sources)):\n",
    "    for j in range(len(red_sources)):\n",
    "        print StatisticalAnalysis.calc_MI(red_recovered_sources[i],red_sources[j])"
   ]
  },
  {
   "cell_type": "code",
   "execution_count": 46,
   "metadata": {},
   "outputs": [],
   "source": [
    "dog_tensor = np.zeros(x1.shape)\n",
    "dog_tensor[:,:,0] = red_recovered_sources[1]\n",
    "dog_tensor[:,:,1] = green_recovered_sources[1]\n",
    "dog_tensor[:,:,2] = blue_recovered_sources[0]"
   ]
  },
  {
   "cell_type": "code",
   "execution_count": 47,
   "metadata": {
    "collapsed": true
   },
   "outputs": [],
   "source": [
    "sm.imsave('dog_tensor.png',dog_tensor)"
   ]
  },
  {
   "cell_type": "code",
   "execution_count": 50,
   "metadata": {},
   "outputs": [],
   "source": [
    "horse_tensor = np.zeros(x1.shape)\n",
    "horse_tensor[:,:,0] = red_recovered_sources[0]\n",
    "horse_tensor[:,:,1] = green_recovered_sources[0]\n",
    "horse_tensor[:,:,2] = blue_recovered_sources[1]"
   ]
  },
  {
   "cell_type": "code",
   "execution_count": 51,
   "metadata": {
    "collapsed": true
   },
   "outputs": [],
   "source": [
    "sm.imsave('horse_tensor.png',horse_tensor)"
   ]
  },
  {
   "cell_type": "code",
   "execution_count": null,
   "metadata": {
    "collapsed": true
   },
   "outputs": [],
   "source": []
  },
  {
   "cell_type": "code",
   "execution_count": null,
   "metadata": {
    "collapsed": true
   },
   "outputs": [],
   "source": []
  },
  {
   "cell_type": "code",
   "execution_count": null,
   "metadata": {
    "collapsed": true
   },
   "outputs": [],
   "source": []
  },
  {
   "cell_type": "code",
   "execution_count": null,
   "metadata": {
    "collapsed": true
   },
   "outputs": [],
   "source": []
  },
  {
   "cell_type": "code",
   "execution_count": null,
   "metadata": {
    "collapsed": true
   },
   "outputs": [],
   "source": []
  },
  {
   "cell_type": "code",
   "execution_count": null,
   "metadata": {
    "collapsed": true
   },
   "outputs": [],
   "source": []
  },
  {
   "cell_type": "code",
   "execution_count": null,
   "metadata": {
    "collapsed": true
   },
   "outputs": [],
   "source": []
  },
  {
   "cell_type": "code",
   "execution_count": null,
   "metadata": {
    "collapsed": true
   },
   "outputs": [],
   "source": []
  }
 ],
 "metadata": {
  "kernelspec": {
   "display_name": "Python 2",
   "language": "python",
   "name": "python2"
  },
  "language_info": {
   "codemirror_mode": {
    "name": "ipython",
    "version": 2
   },
   "file_extension": ".py",
   "mimetype": "text/x-python",
   "name": "python",
   "nbconvert_exporter": "python",
   "pygments_lexer": "ipython2",
   "version": "2.7.12"
  }
 },
 "nbformat": 4,
 "nbformat_minor": 2
}
