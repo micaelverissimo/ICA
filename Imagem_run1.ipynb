{
 "cells": [
  {
   "cell_type": "code",
   "execution_count": 1,
   "metadata": {
    "collapsed": true
   },
   "outputs": [],
   "source": [
    "import time\n",
    "import numpy as np\n",
    "import matplotlib.pyplot as plt\n",
    "from Functions import StatisticalAnalysis\n",
    "\n",
    "from scipy import stats\n",
    "from sklearn.decomposition import PCA, FastICA\n",
    "\n",
    "audio = '/home/micael/Documents/Mestrado/base_audio_ica'\n",
    "imagem = '/home/micael/Documents/Mestrado/base_imagens_ica'\n"
   ]
  },
  {
   "cell_type": "code",
   "execution_count": 2,
   "metadata": {
    "collapsed": true
   },
   "outputs": [],
   "source": [
    "import scipy.misc as sm\n"
   ]
  },
  {
   "cell_type": "code",
   "execution_count": 5,
   "metadata": {},
   "outputs": [
    {
     "data": {
      "text/plain": [
       "(400, 500)"
      ]
     },
     "execution_count": 5,
     "metadata": {},
     "output_type": "execute_result"
    }
   ],
   "source": [
    "x1_r.shape"
   ]
  },
  {
   "cell_type": "code",
   "execution_count": 26,
   "metadata": {},
   "outputs": [
    {
     "name": "stdout",
     "output_type": "stream",
     "text": [
      "(400, 500, 3) (400, 500, 3)\n"
     ]
    }
   ],
   "source": [
    "x1 = sm.imread(imagem+'/'+'1_run'+'/'+'1_saida.jpg',mode='RGB')\n",
    "x2 = sm.imread(imagem+'/'+'1_run'+'/'+'2_saida.jpg',mode='RGB')\n",
    "print x1.shape,x2.shape\n",
    "x1_r = x1[:,:,0].flatten()\n",
    "x2_r = x2[:,:,0].flatten()\n",
    "X_r = np.vstack([x1_r,x2_r])\n",
    "\n"
   ]
  },
  {
   "cell_type": "code",
   "execution_count": 7,
   "metadata": {},
   "outputs": [
    {
     "name": "stdout",
     "output_type": "stream",
     "text": [
      "(2, 200000)\n"
     ]
    }
   ],
   "source": [
    "print X_r.shape\n",
    "#x = X_r.flatten()\n",
    "#print x.shape\n",
    "#sm.imshow(x)"
   ]
  },
  {
   "cell_type": "code",
   "execution_count": 41,
   "metadata": {},
   "outputs": [
    {
     "name": "stdout",
     "output_type": "stream",
     "text": [
      "============ 0 ====================\n",
      "number of interations: 3\n",
      "Time to converges the FastICA: 0.188 seconds\n",
      "============ 1 ====================\n",
      "number of interations: 2\n",
      "Time to converges the FastICA: 0.145 seconds\n",
      "============ 2 ====================\n",
      "number of interations: 2\n",
      "Time to converges the FastICA: 0.151 seconds\n"
     ]
    }
   ],
   "source": [
    "red_recovered_sources = []\n",
    "green_recovered_sources = []\n",
    "blue_recovered_sources = []\n",
    "\n",
    "channels = ['red','green','blue']\n",
    "\n",
    "for i in range(x1.shape[2]):\n",
    "    x1_flatten = x1[:,:,i].flatten()\n",
    "    x2_flatten = x2[:,:,i].flatten()\n",
    "    X = np.vstack([x1_flatten,x2_flatten])\n",
    "    print '============',i,'===================='\n",
    "    init_time = time.time()\n",
    "    ica = FastICA(n_components=2,algorithm='parallel',whiten=True,fun='logcosh')\n",
    "    fit = ica.fit(X_r.T)\n",
    "    print 'number of interations:', fit.n_iter_ \n",
    "    y = ica.transform(X_r.T)\n",
    "\n",
    "    current_time = time.time()\n",
    "    print 'Time to converges the FastICA: %1.3f seconds'%(current_time-init_time)\n",
    "    for j in range(y.shape[1]):\n",
    "        y_source = np.reshape(y[:,j],(400,500))\n",
    "        if i==0:\n",
    "            red_recovered_sources.append(np.reshape(y[:,j],(400,500)))\n",
    "        elif i==1:\n",
    "            green_recovered_sources.append(np.reshape(y[:,j],(400,500)))\n",
    "        else:\n",
    "            blue_recovered_sources.append(np.reshape(y[:,j],(400,500)))\n",
    "        sm.imsave('recovered_source_channel_'+channels[i]+'_' + str(j) + '.png', y_source)"
   ]
  },
  {
   "cell_type": "code",
   "execution_count": 43,
   "metadata": {},
   "outputs": [
    {
     "data": {
      "text/plain": [
       "(400, 500)"
      ]
     },
     "execution_count": 43,
     "metadata": {},
     "output_type": "execute_result"
    }
   ],
   "source": [
    "red_recovered_sources[0].shape"
   ]
  },
  {
   "cell_type": "code",
   "execution_count": 46,
   "metadata": {},
   "outputs": [],
   "source": [
    "dog_tensor = np.zeros(x1.shape)\n",
    "dog_tensor[:,:,0] = red_recovered_sources[1]\n",
    "dog_tensor[:,:,1] = green_recovered_sources[1]\n",
    "dog_tensor[:,:,2] = blue_recovered_sources[0]"
   ]
  },
  {
   "cell_type": "code",
   "execution_count": 47,
   "metadata": {
    "collapsed": true
   },
   "outputs": [],
   "source": [
    "sm.imsave('dog_tensor.png',dog_tensor)"
   ]
  },
  {
   "cell_type": "code",
   "execution_count": 50,
   "metadata": {},
   "outputs": [],
   "source": [
    "horse_tensor = np.zeros(x1.shape)\n",
    "horse_tensor[:,:,0] = red_recovered_sources[0]\n",
    "horse_tensor[:,:,1] = green_recovered_sources[0]\n",
    "horse_tensor[:,:,2] = blue_recovered_sources[1]"
   ]
  },
  {
   "cell_type": "code",
   "execution_count": 51,
   "metadata": {
    "collapsed": true
   },
   "outputs": [],
   "source": [
    "sm.imsave('horse_tensor.png',horse_tensor)"
   ]
  },
  {
   "cell_type": "code",
   "execution_count": null,
   "metadata": {
    "collapsed": true
   },
   "outputs": [],
   "source": []
  },
  {
   "cell_type": "code",
   "execution_count": null,
   "metadata": {
    "collapsed": true
   },
   "outputs": [],
   "source": []
  },
  {
   "cell_type": "code",
   "execution_count": null,
   "metadata": {
    "collapsed": true
   },
   "outputs": [],
   "source": []
  },
  {
   "cell_type": "code",
   "execution_count": null,
   "metadata": {
    "collapsed": true
   },
   "outputs": [],
   "source": []
  },
  {
   "cell_type": "code",
   "execution_count": null,
   "metadata": {
    "collapsed": true
   },
   "outputs": [],
   "source": []
  },
  {
   "cell_type": "code",
   "execution_count": null,
   "metadata": {
    "collapsed": true
   },
   "outputs": [],
   "source": []
  },
  {
   "cell_type": "code",
   "execution_count": null,
   "metadata": {
    "collapsed": true
   },
   "outputs": [],
   "source": []
  },
  {
   "cell_type": "code",
   "execution_count": null,
   "metadata": {
    "collapsed": true
   },
   "outputs": [],
   "source": []
  }
 ],
 "metadata": {
  "kernelspec": {
   "display_name": "Python 2",
   "language": "python",
   "name": "python2"
  },
  "language_info": {
   "codemirror_mode": {
    "name": "ipython",
    "version": 2
   },
   "file_extension": ".py",
   "mimetype": "text/x-python",
   "name": "python",
   "nbconvert_exporter": "python",
   "pygments_lexer": "ipython2",
   "version": "2.7.12"
  }
 },
 "nbformat": 4,
 "nbformat_minor": 2
}
