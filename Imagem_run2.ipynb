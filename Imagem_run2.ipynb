{
 "cells": [
  {
   "cell_type": "code",
   "execution_count": 1,
   "metadata": {
    "collapsed": true
   },
   "outputs": [],
   "source": [
    "import time\n",
    "import numpy as np\n",
    "import matplotlib.pyplot as plt\n",
    "from Functions import StatisticalAnalysis\n",
    "\n",
    "from scipy import stats\n",
    "from sklearn.decomposition import PCA, FastICA\n",
    "\n",
    "audio = '/home/micael/Documents/Mestrado/base_audio_ica'\n",
    "imagem = '/home/micael/Documents/Mestrado/base_imagens_ica'\n"
   ]
  },
  {
   "cell_type": "code",
   "execution_count": 2,
   "metadata": {
    "collapsed": true
   },
   "outputs": [],
   "source": [
    "import scipy.misc as sm\n"
   ]
  },
  {
   "cell_type": "code",
   "execution_count": 3,
   "metadata": {},
   "outputs": [],
   "source": [
    "output_imagem = '/home/micael/MyWorkspace/ICA/Imagem_run2'"
   ]
  },
  {
   "cell_type": "code",
   "execution_count": 4,
   "metadata": {},
   "outputs": [],
   "source": [
    "x1 = sm.imread(imagem+'/'+'2_run'+'/'+'1_saida.jpg',mode='RGB')\n",
    "x2 = sm.imread(imagem+'/'+'2_run'+'/'+'2_saida.jpg',mode='RGB')\n",
    "x3 = sm.imread(imagem+'/'+'2_run'+'/'+'3_saida.jpg',mode='RGB')\n",
    "\n",
    "\n"
   ]
  },
  {
   "cell_type": "code",
   "execution_count": 7,
   "metadata": {},
   "outputs": [
    {
     "name": "stdout",
     "output_type": "stream",
     "text": [
      "(2, 200000)\n"
     ]
    }
   ],
   "source": [
    "print X_r.shape\n",
    "#x = X_r.flatten()\n",
    "#print x.shape\n",
    "#sm.imshow(x)"
   ]
  },
  {
   "cell_type": "code",
   "execution_count": 7,
   "metadata": {},
   "outputs": [
    {
     "name": "stdout",
     "output_type": "stream",
     "text": [
      "============ 0 ====================\n",
      "number of interations: 7\n",
      "Time to converges the FastICA: 0.308 seconds\n",
      "============ 1 ====================\n",
      "number of interations: 5\n",
      "Time to converges the FastICA: 0.234 seconds\n",
      "============ 2 ====================\n",
      "number of interations: 4\n",
      "Time to converges the FastICA: 0.256 seconds\n"
     ]
    }
   ],
   "source": [
    "red_recovered_sources = []\n",
    "green_recovered_sources = []\n",
    "blue_recovered_sources = []\n",
    "\n",
    "channels = ['red','green','blue']\n",
    "\n",
    "for i in range(x1.shape[2]):\n",
    "    x1_flatten = x1[:,:,i].flatten()\n",
    "    x2_flatten = x2[:,:,i].flatten()\n",
    "    x3_flatten = x3[:,:,i].flatten()\n",
    "    X = np.vstack([x1_flatten,x2_flatten,x3_flatten])\n",
    "    print '============',i,'===================='\n",
    "    init_time = time.time()\n",
    "    ica = FastICA(n_components=3,algorithm='parallel',whiten=True,fun='logcosh')\n",
    "    fit = ica.fit(X.T)\n",
    "    print 'number of interations:', fit.n_iter_ \n",
    "    y = ica.transform(X.T)\n",
    "\n",
    "    current_time = time.time()\n",
    "    print 'Time to converges the FastICA: %1.3f seconds'%(current_time-init_time)\n",
    "    for j in range(y.shape[1]):\n",
    "        y_source = np.reshape(y[:,j],(400,500))\n",
    "        if i==0:\n",
    "            red_recovered_sources.append(np.reshape(y[:,j],(400,500)))\n",
    "        elif i==1:\n",
    "            green_recovered_sources.append(np.reshape(y[:,j],(400,500)))\n",
    "        else:\n",
    "            blue_recovered_sources.append(np.reshape(y[:,j],(400,500)))\n",
    "        sm.imsave(output_imagem+'/'+'recovered_source_channel_'+channels[i]+'_' + str(j) + '.png', y_source)"
   ]
  },
  {
   "cell_type": "code",
   "execution_count": 43,
   "metadata": {},
   "outputs": [
    {
     "data": {
      "text/plain": [
       "(400, 500)"
      ]
     },
     "execution_count": 43,
     "metadata": {},
     "output_type": "execute_result"
    }
   ],
   "source": [
    "red_recovered_sources[0].shape"
   ]
  },
  {
   "cell_type": "code",
   "execution_count": 8,
   "metadata": {
    "collapsed": true
   },
   "outputs": [],
   "source": [
    "mazza_tensor = np.zeros(x1.shape)\n",
    "mazza_tensor[:,:,0] = red_recovered_sources[1]\n",
    "mazza_tensor[:,:,1] = green_recovered_sources[0]\n",
    "mazza_tensor[:,:,2] = blue_recovered_sources[2]"
   ]
  },
  {
   "cell_type": "code",
   "execution_count": 10,
   "metadata": {
    "collapsed": true
   },
   "outputs": [],
   "source": [
    "sm.imsave(output_imagem+'/'+'mazza_tensor.png',mazza_tensor)"
   ]
  },
  {
   "cell_type": "code",
   "execution_count": 11,
   "metadata": {
    "collapsed": true
   },
   "outputs": [],
   "source": [
    "cara_de_oculos_tensor = np.zeros(x1.shape)\n",
    "cara_de_oculos_tensor[:,:,0] = red_recovered_sources[0]\n",
    "cara_de_oculos_tensor[:,:,1] = green_recovered_sources[0]\n",
    "cara_de_oculos_tensor[:,:,2] = blue_recovered_sources[1]"
   ]
  },
  {
   "cell_type": "code",
   "execution_count": 12,
   "metadata": {
    "collapsed": true
   },
   "outputs": [],
   "source": [
    "sm.imsave(output_imagem+'/'+'cara_de_oculos_tensor.png',cara_de_oculos_tensor)"
   ]
  },
  {
   "cell_type": "code",
   "execution_count": 13,
   "metadata": {
    "collapsed": true
   },
   "outputs": [],
   "source": [
    "papelao_tensor = np.zeros(x1.shape)\n",
    "papelao_tensor[:,:,0] = red_recovered_sources[2]\n",
    "papelao_tensor[:,:,1] = green_recovered_sources[2]\n",
    "papelao_tensor[:,:,2] = blue_recovered_sources[2]"
   ]
  },
  {
   "cell_type": "code",
   "execution_count": 14,
   "metadata": {
    "collapsed": true
   },
   "outputs": [],
   "source": [
    "sm.imsave(output_imagem+'/'+'papelao_tensor.png',papelao_tensor)"
   ]
  },
  {
   "cell_type": "code",
   "execution_count": null,
   "metadata": {
    "collapsed": true
   },
   "outputs": [],
   "source": []
  },
  {
   "cell_type": "code",
   "execution_count": null,
   "metadata": {
    "collapsed": true
   },
   "outputs": [],
   "source": []
  },
  {
   "cell_type": "code",
   "execution_count": null,
   "metadata": {
    "collapsed": true
   },
   "outputs": [],
   "source": []
  },
  {
   "cell_type": "code",
   "execution_count": null,
   "metadata": {
    "collapsed": true
   },
   "outputs": [],
   "source": []
  },
  {
   "cell_type": "code",
   "execution_count": null,
   "metadata": {
    "collapsed": true
   },
   "outputs": [],
   "source": []
  },
  {
   "cell_type": "code",
   "execution_count": null,
   "metadata": {
    "collapsed": true
   },
   "outputs": [],
   "source": []
  }
 ],
 "metadata": {
  "kernelspec": {
   "display_name": "Python 2",
   "language": "python",
   "name": "python2"
  },
  "language_info": {
   "codemirror_mode": {
    "name": "ipython",
    "version": 2
   },
   "file_extension": ".py",
   "mimetype": "text/x-python",
   "name": "python",
   "nbconvert_exporter": "python",
   "pygments_lexer": "ipython2",
   "version": "2.7.12"
  }
 },
 "nbformat": 4,
 "nbformat_minor": 2
}
